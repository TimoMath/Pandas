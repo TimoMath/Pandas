{
 "cells": [
  {
   "cell_type": "markdown",
   "metadata": {},
   "source": [
    "# **Pandas**\n",
    "## To install:\n",
    "* In Anaconda Prompt enter *conda install pandas* Type y and hit \"Enter\" and Conda should start installing the package.\n",
    "\n",
    "## To use:\n",
    "* import pandas as pd"
   ]
  },
  {
   "cell_type": "code",
   "execution_count": null,
   "metadata": {},
   "outputs": [],
   "source": [
    "import pandas as pd\n",
    "\n",
    "series_test = [1, 2, 3, 4, 5, 6, 7, 8, 9]\n",
    "print(pd.Series(series_test))\n",
    "# You'll see the output is \"two\" columns. The index on the left and the data on the right.\n",
    "# The index is \"kind-of\" a column, but is better understood as the \"address\" of data in Pandas.\n",
    "# We'll be working a lot with indices in the future."
   ]
  },
  {
   "cell_type": "code",
   "execution_count": null,
   "metadata": {},
   "outputs": [],
   "source": [
    "import os # This will be used to tell us where the file is\n",
    "import pandas as pd\n",
    "# pwd = means present working directory. like in the folder where you are writing your code\n",
    "# cwd = current working folder\n",
    "pwd = os.getcwd() # This creates a string of the folder this Python Script is stored in\n",
    "\n",
    "filepath = pwd + \"/simple_csv.csv\" # This creates a string that is the filepath to the simple_csv file\n",
    "\n",
    "first_import = pd.read_csv(filepath) # This reads the csv into Python\n",
    "first_import"
   ]
  },
  {
   "cell_type": "code",
   "execution_count": 161,
   "metadata": {},
   "outputs": [
    {
     "data": {
      "text/plain": [
       "'c:\\\\Users\\\\Matthew Timothy\\\\Desktop\\\\Test'"
      ]
     },
     "execution_count": 161,
     "metadata": {},
     "output_type": "execute_result"
    }
   ],
   "source": [
    "pwd"
   ]
  },
  {
   "cell_type": "markdown",
   "metadata": {},
   "source": [
    "# **COLUMNS**"
   ]
  },
  {
   "cell_type": "code",
   "execution_count": 162,
   "metadata": {},
   "outputs": [
    {
     "data": {
      "text/html": [
       "<div>\n",
       "<style scoped>\n",
       "    .dataframe tbody tr th:only-of-type {\n",
       "        vertical-align: middle;\n",
       "    }\n",
       "\n",
       "    .dataframe tbody tr th {\n",
       "        vertical-align: top;\n",
       "    }\n",
       "\n",
       "    .dataframe thead th {\n",
       "        text-align: right;\n",
       "    }\n",
       "</style>\n",
       "<table border=\"1\" class=\"dataframe\">\n",
       "  <thead>\n",
       "    <tr style=\"text-align: right;\">\n",
       "      <th></th>\n",
       "      <th>Column1</th>\n",
       "      <th>Column2</th>\n",
       "      <th>Column3</th>\n",
       "      <th>New_Column</th>\n",
       "      <th>New_Column2</th>\n",
       "      <th>Adding Stuff</th>\n",
       "    </tr>\n",
       "  </thead>\n",
       "  <tbody>\n",
       "    <tr>\n",
       "      <th>0</th>\n",
       "      <td>0.280925</td>\n",
       "      <td>0.910368</td>\n",
       "      <td>0.692982</td>\n",
       "      <td>7</td>\n",
       "      <td>0</td>\n",
       "      <td>7</td>\n",
       "    </tr>\n",
       "    <tr>\n",
       "      <th>1</th>\n",
       "      <td>0.719882</td>\n",
       "      <td>0.210024</td>\n",
       "      <td>0.761276</td>\n",
       "      <td>8</td>\n",
       "      <td>1</td>\n",
       "      <td>9</td>\n",
       "    </tr>\n",
       "    <tr>\n",
       "      <th>2</th>\n",
       "      <td>0.235752</td>\n",
       "      <td>0.059796</td>\n",
       "      <td>0.154667</td>\n",
       "      <td>1</td>\n",
       "      <td>2</td>\n",
       "      <td>3</td>\n",
       "    </tr>\n",
       "    <tr>\n",
       "      <th>3</th>\n",
       "      <td>0.603366</td>\n",
       "      <td>0.485614</td>\n",
       "      <td>0.013345</td>\n",
       "      <td>6</td>\n",
       "      <td>3</td>\n",
       "      <td>9</td>\n",
       "    </tr>\n",
       "    <tr>\n",
       "      <th>4</th>\n",
       "      <td>0.039985</td>\n",
       "      <td>0.236359</td>\n",
       "      <td>0.811832</td>\n",
       "      <td>0</td>\n",
       "      <td>4</td>\n",
       "      <td>4</td>\n",
       "    </tr>\n",
       "    <tr>\n",
       "      <th>5</th>\n",
       "      <td>0.015478</td>\n",
       "      <td>0.543641</td>\n",
       "      <td>0.112719</td>\n",
       "      <td>3</td>\n",
       "      <td>5</td>\n",
       "      <td>8</td>\n",
       "    </tr>\n",
       "    <tr>\n",
       "      <th>6</th>\n",
       "      <td>0.192540</td>\n",
       "      <td>0.409874</td>\n",
       "      <td>0.875082</td>\n",
       "      <td>5</td>\n",
       "      <td>6</td>\n",
       "      <td>11</td>\n",
       "    </tr>\n",
       "    <tr>\n",
       "      <th>7</th>\n",
       "      <td>0.380921</td>\n",
       "      <td>0.045468</td>\n",
       "      <td>0.515859</td>\n",
       "      <td>2</td>\n",
       "      <td>7</td>\n",
       "      <td>9</td>\n",
       "    </tr>\n",
       "    <tr>\n",
       "      <th>8</th>\n",
       "      <td>0.592471</td>\n",
       "      <td>0.786421</td>\n",
       "      <td>0.047249</td>\n",
       "      <td>6</td>\n",
       "      <td>8</td>\n",
       "      <td>14</td>\n",
       "    </tr>\n",
       "    <tr>\n",
       "      <th>9</th>\n",
       "      <td>0.072112</td>\n",
       "      <td>0.695694</td>\n",
       "      <td>0.409573</td>\n",
       "      <td>3</td>\n",
       "      <td>9</td>\n",
       "      <td>12</td>\n",
       "    </tr>\n",
       "  </tbody>\n",
       "</table>\n",
       "</div>"
      ],
      "text/plain": [
       "    Column1   Column2   Column3  New_Column  New_Column2  Adding Stuff\n",
       "0  0.280925  0.910368  0.692982           7            0             7\n",
       "1  0.719882  0.210024  0.761276           8            1             9\n",
       "2  0.235752  0.059796  0.154667           1            2             3\n",
       "3  0.603366  0.485614  0.013345           6            3             9\n",
       "4  0.039985  0.236359  0.811832           0            4             4\n",
       "5  0.015478  0.543641  0.112719           3            5             8\n",
       "6  0.192540  0.409874  0.875082           5            6            11\n",
       "7  0.380921  0.045468  0.515859           2            7             9\n",
       "8  0.592471  0.786421  0.047249           6            8            14\n",
       "9  0.072112  0.695694  0.409573           3            9            12"
      ]
     },
     "execution_count": 162,
     "metadata": {},
     "output_type": "execute_result"
    }
   ],
   "source": [
    "import os #this tells code to go and look for what am about to tell you.\n",
    "import pandas as pd # pd can be anything but by standard we use it\n",
    "pwd = os.getcwd()\n",
    "\n",
    "file = pwd + \"/simple_csv.csv\"\n",
    "# file its the name you give to your variable, and you\n",
    "# pass on the value to it, thats go in the pwd and find this file/sheet\n",
    "# this sign \"/\" the front slash calls on a folder\n",
    "\n",
    "display = pd.read_csv(file, nrows=10)\n",
    "# create another variable that will now open up your file\n",
    "# name it anything like i did (display), the call on pandas and tell it \n",
    "# what type of file you reading then in the brackets pass in the name of\n",
    "# of the variable which has a path to that file then call it.\n",
    "# by using \"nrows=5\" you tell it how many rows you want and specify by the number you put there\n",
    "\n",
    "display[\"New_Column\"] = list_nu =[7, 8, 1, 6, 0, 3, 5, 2, 6, 3]\n",
    "list_nu[::-1] # You can specify a uniform value for every row \n",
    "display[\"New_Column2\"] = range(10) # You can pass a list of values that is as long as the DataFrame\n",
    "display[\"Adding Stuff\"] = display[\"New_Column\"] + display[\"New_Column2\"] # You can take a couple of columns and add their values together\n",
    "# display = display.drop(columns=\"Column2\")\n",
    "\n",
    "# display.drop(columns=\"Column3\", inplace=True) # The \"drop\" method creates a copy of the DataFrame. \n",
    "                                                   # If you want to change the original DataFrame either do what we did in the line above, \n",
    "                                                   # or use the \"inplace\" argument\n",
    "display\n"
   ]
  },
  {
   "cell_type": "markdown",
   "metadata": {},
   "source": [
    "# **ROWS**\n",
    "\n",
    "# will be using the *loc* and *iloc* functions a lot.\n",
    "# The *loc* method allows us to use the names of columns to specify them. \n",
    "# You structure a loc query like below: \n",
    "# **dataframe.loc[from_row : to_row , [list_of_columns]]**"
   ]
  },
  {
   "cell_type": "markdown",
   "metadata": {},
   "source": [
    "# **loc**"
   ]
  },
  {
   "cell_type": "code",
   "execution_count": null,
   "metadata": {},
   "outputs": [],
   "source": [
    "display.loc[:, [\"Column1\", \"Column2\",\t\"Column3\",\t\"New_Column\", \"New_Column2\",\t\"Adding Stuff\"]] # Select all rows in Column1. so we saying start from index 0 to the last index thats why we just put ':'\n",
    "\n",
    "# display.loc[3:5, [\"Column1\", \"Adding Stuff\"]] # Select rows 0(from wher you want to start from) through 4(where you want to end from)\n",
    "                                              # INCLUSIVE (different from other Python indices)\n",
    "                                              # And you specify which columns you want to to display\n",
    "\n",
    "# display.loc[:7, [\"Column1\", \"New_Column2\"]] # Select all rows in Column1 and Column2"
   ]
  },
  {
   "cell_type": "markdown",
   "metadata": {},
   "source": [
    "# **iloc**"
   ]
  },
  {
   "cell_type": "code",
   "execution_count": null,
   "metadata": {},
   "outputs": [],
   "source": [
    "display.iloc[2:5, 3:6] # in iloc you can not specify columns by using there names, you only use indexs(numbers)to specify them"
   ]
  },
  {
   "cell_type": "markdown",
   "metadata": {},
   "source": [
    "# **Tidy Data in Pandas**"
   ]
  },
  {
   "cell_type": "code",
   "execution_count": null,
   "metadata": {},
   "outputs": [],
   "source": [
    "netflix = pd.read_csv(pwd + \"/netflix_titles.csv\")\n",
    "netflix"
   ]
  },
  {
   "cell_type": "code",
   "execution_count": null,
   "metadata": {},
   "outputs": [],
   "source": [
    "list(netflix.columns)"
   ]
  },
  {
   "cell_type": "code",
   "execution_count": null,
   "metadata": {},
   "outputs": [],
   "source": [
    "netflix.describe() #If we want to run some descriptive statistics on all the numerical columns in the dataset use"
   ]
  },
  {
   "cell_type": "code",
   "execution_count": null,
   "metadata": {},
   "outputs": [],
   "source": [
    "\n",
    "netflix[\"listed_in\"].unique() #If you want to see the unique values in a column just do this. where there is \"type\" thats where you put the column\n",
    "# name you want to see whats in there"
   ]
  },
  {
   "cell_type": "markdown",
   "metadata": {},
   "source": [
    "# **Filters**"
   ]
  },
  {
   "cell_type": "code",
   "execution_count": null,
   "metadata": {},
   "outputs": [],
   "source": [
    "netflix[netflix[\"country\"] == \"Singapore\"] # so youre saying in country(can be any column) show me items that are only for this particular item\n",
    "netflix[netflix[\"type\"] == \"Movie\"] # So its like in this column i just want to see this type of information only"
   ]
  },
  {
   "cell_type": "code",
   "execution_count": null,
   "metadata": {},
   "outputs": [],
   "source": [
    "netflix[(netflix[\"country\"] == \"Singapore\") & (netflix[\"type\"] == \"Movie\") & (netflix[\"listed_in\"] == \"Stand-Up Comedy\")] # Calling out multiple variables\n",
    "# if running multiple functions you put everything in [] the each function in (). Call out the column first(e.g 'country') then == what you want in that\n",
    "# column"
   ]
  },
  {
   "cell_type": "code",
   "execution_count": null,
   "metadata": {},
   "outputs": [],
   "source": [
    "# netflix[\"unix_time\"] = netflix[\"computer_date\"].astype(int)\n",
    "import datetime\n",
    "import _strptime\n",
    "\n",
    "a = datetime.datetime.strptime(\"10/12/2013\", \"%m/%d/%Y\")\n",
    "b = datetime.datetime.strptime(\"10/15/2013\", \"%m/%d/%Y\")\n",
    "a>b\n",
    "False\n",
    "netflix[\"computer_date\"] = pd.to_datetime(netflix[\"date_added\"], format='mixed')\n",
    "netflix\n"
   ]
  },
  {
   "cell_type": "code",
   "execution_count": null,
   "metadata": {},
   "outputs": [],
   "source": [
    "computer_date = pd.to_datetime(netflix[\"date_added\"], format=\"mixed\") # in the braces we sepecify the series and we do so by naming the dataframe then column\n",
    "computer_date"
   ]
  },
  {
   "cell_type": "code",
   "execution_count": null,
   "metadata": {},
   "outputs": [],
   "source": [
    "netflix[\"computer_date\"].dropna() # the na means no value and we have to fill them in so we dont have any problem. and they mean there is no date in that row so we hav to fill it in"
   ]
  },
  {
   "cell_type": "code",
   "execution_count": 201,
   "metadata": {},
   "outputs": [],
   "source": [
    "from datetime import datetime as dt\n",
    "\n",
    "netflix[\"computer_date\"].fillna(dt(2020, 1,1), inplace=True) # and from here when you run the above code you will see that the Nan value is filled\n",
    "# this can work even when filling other Nan value"
   ]
  },
  {
   "cell_type": "code",
   "execution_count": null,
   "metadata": {},
   "outputs": [],
   "source": [
    "netflix[\"unix_time\"] = netflix[\"computer_date\"].astype('int64').astype(dtype) # Unix Time  it's basically a way to express a date and time as an integer. It counts up 1 for every second since January 1st, 1970, known as the Unix Epoch. "
   ]
  },
  {
   "cell_type": "markdown",
   "metadata": {},
   "source": [
    "# **Splitting Columns**"
   ]
  },
  {
   "cell_type": "code",
   "execution_count": null,
   "metadata": {},
   "outputs": [],
   "source": [
    "netflix[\"date_added\"].str.split(\", \", expand=True) # So in the date_added column(thats in the dataframe) you have the full date written, \n",
    "# so you want to split that like months and years separetely you use this function. "
   ]
  },
  {
   "cell_type": "code",
   "execution_count": null,
   "metadata": {},
   "outputs": [],
   "source": [
    "netflix[[\"Date Part 1\", \"Date Part 2\"]] = netflix[\"date_added\"].str.split(\", \", expand=True) # in here you add that splitted date as a column now. the first\n",
    "# function in this code line adds in the column and its name then the second code line its the one we used to split that code\n",
    "netflix"
   ]
  },
  {
   "cell_type": "code",
   "execution_count": null,
   "metadata": {},
   "outputs": [],
   "source": [
    "netflix.rename(columns={\"Date Part 2\": \"Year\", \"Date Part 1\": \"Month\"}, inplace=True)# renaming a column using a dictionary, so we rename date part 2 to year\n",
    "# The key is the current column name and the value is the new name\n",
    "# this is how you write a dictionary (dictionary = {'Matt':\"Gift\", 'judy':\"Love\"})\n",
    "netflix"
   ]
  },
  {
   "cell_type": "code",
   "execution_count": null,
   "metadata": {},
   "outputs": [],
   "source": [
    "netflix[\"cast\"].fillna(\"No Cast\", inplace=True) ## and from here when you run the above code you will see that the Nan value is filled\n",
    "# this can work even when filling other Nan value in other columns. this is for cast\n",
    "netflix[\"country\"].fillna(\"Japan\", inplace=True) # this is for country\n",
    "netflix[\"director\"].fillna(\"Matt Timo\", inplace=True) # this is for director\n",
    "netflix"
   ]
  },
  {
   "cell_type": "code",
   "execution_count": null,
   "metadata": {},
   "outputs": [],
   "source": [
    "netflix[netflix[\"country\"] == \"Japan\"] # now i can check how many we've renamed Nan to Japan so we just filter using this cold that says,\n",
    "# in country column shows me what was made in Japan. this is for country column\n",
    "netflix[(netflix[\"director\"] == \"Matt Timo\") & (netflix[\"country\"] == \"Japan\")] # this is now filtering more than one column. like i only want to see movies\n",
    "# and TV shows directed by \"Matt Timo\" in \"Japan\""
   ]
  },
  {
   "cell_type": "code",
   "execution_count": null,
   "metadata": {},
   "outputs": [],
   "source": [
    "# The map method will pass each element of a Series (remember a series is basically a column of a DataFrame) to the lambda function. \n",
    "# The apply method will pass an entire row to the lambda function. \n",
    "# In short this means that if you want to perform calculations using multiple columns of data, use the apply method, otherwise use the map method. \n",
    "netflix[\"genre_count\"] = netflix[\"listed_in\"].map(lambda x: len(x.split(\",\"))) # What Pandas is doing here, \n",
    "# is it's passing each element of the Series netflix[\"listed_in\"] to the lambda function as x. We then perform the logic with the code after the colon\n",
    "# if you want to handle more than one column\n",
    "netflix[\"nonsensical_columns\"] = netflix.apply(lambda x: len(x[\"cast\"].split(\",\")) + len(x[\"listed_in\"].split(\",\")), axis = 1)"
   ]
  },
  {
   "cell_type": "markdown",
   "metadata": {},
   "source": [
    "# **GroupBy, Aggregation, and Sorting Values**\n",
    "* Often times you'll want to perform aggregations on your data. In this case, you'll want to use groupbys and aggregations.\n",
    "* So its like trying to know, how many of this tye of thing are in this column e.g How many movies and TV show are in each country.\n",
    "* So you choose which column to use in thi case we show_id.\n",
    "* **.reset_index()** makes the table comeout in order"
   ]
  },
  {
   "cell_type": "code",
   "execution_count": null,
   "metadata": {},
   "outputs": [],
   "source": [
    "netflix.groupby(\"country\")[\"show_id\"].count().reset_index() # Here we're saying which country had alot of movies. because each movie had an id\n",
    "netflix.groupby(\"director\")[\"type\"].count().reset_index().sort_values(by=\"type\", ascending=False) # Here we saying which director had alot of movies and tv shows\n",
    "# ascending=False means it should put the big value on to then doing down"
   ]
  },
  {
   "cell_type": "code",
   "execution_count": null,
   "metadata": {},
   "outputs": [],
   "source": [
    "netflix_movies_by_country = netflix.groupby(\"country\")[\"show_id\"].count().reset_index().sort_values(by=\"show_id\", ascending=False)\n",
    "netflix_movies_by_country\n"
   ]
  },
  {
   "cell_type": "markdown",
   "metadata": {},
   "source": [
    "# **Joints and Unions**\n",
    "# Oftentimes we'll want to enrich our data by adding more data from other datasets to it.\n",
    "# There are two major ways we can combine our datasets together: \n",
    "* **Unions:** Put simply, a union (SQL Union) is the process of stacking two tables on top of one another. You will usually do this when your data is split up into multiple sections like an excel spreadsheet of a year’s sales split by month."
   ]
  },
  {
   "cell_type": "code",
   "execution_count": null,
   "metadata": {},
   "outputs": [],
   "source": [
    "second_dataset = pd.read_csv(pwd + \"/netflix_titles_second.csv\") # We've pulled inthe second dataframe we want to stack on top\n",
    "second_dataset\n",
    "\n",
    "# At times the direct code cant not work. When pands is performing concat opreation horizontally (axis=1) it tries to find rows with sames indexes\n",
    "#and join them horizontlly. So row with index 1 deom dataframe1 will be matched with row with index 1. Therefore reset_index in either one of them\n",
    "# or both if both have troubled indexes. so when writing code after declaring each dataframr you as(.reset_index(drop=True) then outside the [] put\n",
    "# (, axis=1))\n",
    "new_dataset = pd.concat([netflix.reset_index(drop=True), second_dataset.reset_index(drop=True)], axis=1) # This is how you stuck it up together\n",
    "new_dataset"
   ]
  },
  {
   "cell_type": "code",
   "execution_count": 260,
   "metadata": {},
   "outputs": [
    {
     "data": {
      "text/html": [
       "<div>\n",
       "<style scoped>\n",
       "    .dataframe tbody tr th:only-of-type {\n",
       "        vertical-align: middle;\n",
       "    }\n",
       "\n",
       "    .dataframe tbody tr th {\n",
       "        vertical-align: top;\n",
       "    }\n",
       "\n",
       "    .dataframe thead th {\n",
       "        text-align: right;\n",
       "    }\n",
       "</style>\n",
       "<table border=\"1\" class=\"dataframe\">\n",
       "  <thead>\n",
       "    <tr style=\"text-align: right;\">\n",
       "      <th>type</th>\n",
       "      <th>country</th>\n",
       "      <th>Movie</th>\n",
       "      <th>TV Show</th>\n",
       "    </tr>\n",
       "  </thead>\n",
       "  <tbody>\n",
       "    <tr>\n",
       "      <th>0</th>\n",
       "      <td>Argentina</td>\n",
       "      <td>34</td>\n",
       "      <td>16</td>\n",
       "    </tr>\n",
       "    <tr>\n",
       "      <th>1</th>\n",
       "      <td>Argentina, Brazil, France, Poland, Germany, De...</td>\n",
       "      <td>1</td>\n",
       "      <td>0</td>\n",
       "    </tr>\n",
       "    <tr>\n",
       "      <th>2</th>\n",
       "      <td>Argentina, Chile</td>\n",
       "      <td>1</td>\n",
       "      <td>0</td>\n",
       "    </tr>\n",
       "    <tr>\n",
       "      <th>3</th>\n",
       "      <td>Argentina, Chile, Peru</td>\n",
       "      <td>1</td>\n",
       "      <td>0</td>\n",
       "    </tr>\n",
       "    <tr>\n",
       "      <th>4</th>\n",
       "      <td>Argentina, France</td>\n",
       "      <td>1</td>\n",
       "      <td>0</td>\n",
       "    </tr>\n",
       "    <tr>\n",
       "      <th>...</th>\n",
       "      <td>...</td>\n",
       "      <td>...</td>\n",
       "      <td>...</td>\n",
       "    </tr>\n",
       "    <tr>\n",
       "      <th>676</th>\n",
       "      <td>Venezuela</td>\n",
       "      <td>1</td>\n",
       "      <td>0</td>\n",
       "    </tr>\n",
       "    <tr>\n",
       "      <th>677</th>\n",
       "      <td>Venezuela, Colombia</td>\n",
       "      <td>1</td>\n",
       "      <td>0</td>\n",
       "    </tr>\n",
       "    <tr>\n",
       "      <th>678</th>\n",
       "      <td>Vietnam</td>\n",
       "      <td>5</td>\n",
       "      <td>0</td>\n",
       "    </tr>\n",
       "    <tr>\n",
       "      <th>679</th>\n",
       "      <td>West Germany</td>\n",
       "      <td>1</td>\n",
       "      <td>0</td>\n",
       "    </tr>\n",
       "    <tr>\n",
       "      <th>680</th>\n",
       "      <td>Zimbabwe</td>\n",
       "      <td>1</td>\n",
       "      <td>0</td>\n",
       "    </tr>\n",
       "  </tbody>\n",
       "</table>\n",
       "<p>681 rows × 3 columns</p>\n",
       "</div>"
      ],
      "text/plain": [
       "type                                            country  Movie  TV Show\n",
       "0                                             Argentina     34       16\n",
       "1     Argentina, Brazil, France, Poland, Germany, De...      1        0\n",
       "2                                      Argentina, Chile      1        0\n",
       "3                                Argentina, Chile, Peru      1        0\n",
       "4                                     Argentina, France      1        0\n",
       "..                                                  ...    ...      ...\n",
       "676                                           Venezuela      1        0\n",
       "677                                 Venezuela, Colombia      1        0\n",
       "678                                             Vietnam      5        0\n",
       "679                                        West Germany      1        0\n",
       "680                                            Zimbabwe      1        0\n",
       "\n",
       "[681 rows x 3 columns]"
      ]
     },
     "execution_count": 260,
     "metadata": {},
     "output_type": "execute_result"
    }
   ],
   "source": [
    "# Pivot\n",
    "# Oftentimes you'll want to pivot or \"melt\" data. Pivoting data takes it from the \"long\" format that we are used to\n",
    "# and puts it in a \"wide\" format that might be easier to read. Here's an example. \n",
    "pivot_table = netflix.pivot_table(index=\"country\", columns=\"type\", values= \"title\", aggfunc='count', fill_value=0).reset_index()\n",
    "pivot_table"
   ]
  },
  {
   "cell_type": "code",
   "execution_count": 261,
   "metadata": {},
   "outputs": [
    {
     "data": {
      "text/html": [
       "<div>\n",
       "<style scoped>\n",
       "    .dataframe tbody tr th:only-of-type {\n",
       "        vertical-align: middle;\n",
       "    }\n",
       "\n",
       "    .dataframe tbody tr th {\n",
       "        vertical-align: top;\n",
       "    }\n",
       "\n",
       "    .dataframe thead th {\n",
       "        text-align: right;\n",
       "    }\n",
       "</style>\n",
       "<table border=\"1\" class=\"dataframe\">\n",
       "  <thead>\n",
       "    <tr style=\"text-align: right;\">\n",
       "      <th></th>\n",
       "      <th>A</th>\n",
       "      <th>myVarname</th>\n",
       "      <th>myValname</th>\n",
       "    </tr>\n",
       "  </thead>\n",
       "  <tbody>\n",
       "    <tr>\n",
       "      <th>0</th>\n",
       "      <td>a</td>\n",
       "      <td>B</td>\n",
       "      <td>1</td>\n",
       "    </tr>\n",
       "    <tr>\n",
       "      <th>1</th>\n",
       "      <td>b</td>\n",
       "      <td>B</td>\n",
       "      <td>3</td>\n",
       "    </tr>\n",
       "    <tr>\n",
       "      <th>2</th>\n",
       "      <td>c</td>\n",
       "      <td>B</td>\n",
       "      <td>5</td>\n",
       "    </tr>\n",
       "  </tbody>\n",
       "</table>\n",
       "</div>"
      ],
      "text/plain": [
       "   A myVarname  myValname\n",
       "0  a         B          1\n",
       "1  b         B          3\n",
       "2  c         B          5"
      ]
     },
     "execution_count": 261,
     "metadata": {},
     "output_type": "execute_result"
    }
   ],
   "source": [
    "df = pd.DataFrame({'A': {0: 'a', 1: 'b', 2: 'c'},\n",
    "                   'B': {0: 1, 1: 3, 2: 5},\n",
    "                   'C': {0: 2, 1: 4, 2: 6}})\n",
    "\n",
    "df.melt(id_vars=['A'], value_vars=['B'],\n",
    "        var_name='myVarname', value_name='myValname')"
   ]
  },
  {
   "cell_type": "code",
   "execution_count": null,
   "metadata": {},
   "outputs": [],
   "source": []
  }
 ],
 "metadata": {
  "kernelspec": {
   "display_name": "Python 3",
   "language": "python",
   "name": "python3"
  },
  "language_info": {
   "codemirror_mode": {
    "name": "ipython",
    "version": 3
   },
   "file_extension": ".py",
   "mimetype": "text/x-python",
   "name": "python",
   "nbconvert_exporter": "python",
   "pygments_lexer": "ipython3",
   "version": "3.11.5"
  }
 },
 "nbformat": 4,
 "nbformat_minor": 2
}
