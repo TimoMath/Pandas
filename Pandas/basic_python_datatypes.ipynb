{
 "cells": [
  {
   "cell_type": "code",
   "execution_count": 10,
   "metadata": {},
   "outputs": [
    {
     "name": "stdout",
     "output_type": "stream",
     "text": [
      "'I am learning Python, \n",
      " specifically for data analysis'\n",
      "5\n",
      "'5'\n",
      "This is a \n",
      "multiline string\n",
      "Escaping a character ''\n",
      "this is how you create a \n",
      " newline, which is kind of like hitting the enter key\n",
      "am learning\n",
      "<class 'float'>\n",
      "15.5\n",
      "7.8\n",
      "'\n",
      "'I am l\n"
     ]
    },
    {
     "data": {
      "text/plain": [
       "False"
      ]
     },
     "execution_count": 10,
     "metadata": {},
     "output_type": "execute_result"
    }
   ],
   "source": [
    "z = \"'I am learning Python, \\n specifically for data analysis'\" # A very basic string\n",
    "\n",
    "a = \"5\" # The number \"5\" as a string\n",
    "\n",
    "a = '5' # Single quotations to create a string\n",
    "\n",
    "a_two = \"'5'\" # Surround one type of quotation with another one to make that quotation part of the string\n",
    "\n",
    "b = \"\"\"This is a \n",
    "multiline string\"\"\" # Triple quotes to denote a multiline string\n",
    "\n",
    "c = \"Escaping a character \\''\" # Use a \"\\\" to \"escape a character\" meaning that you'll print that character as is. This is useful for when you need to use special characters like single quotes\n",
    "\n",
    "d = \"this is how you create a \\n newline, which is kind of like hitting the enter key\" # Use \"\\n\" to denote a newline\n",
    "\n",
    "print(z) # Use the \"print\" function to look at all of these outputs\n",
    "print(a)\n",
    "print(a_two)\n",
    "print(b)\n",
    "print(c)\n",
    "print(d)\n",
    "print(z[3:14])\n",
    "\n",
    "x =7.7\n",
    "y = 7.8\n",
    "print(type(y))\n",
    "print(y + x)\n",
    "print(y),x\n",
    "print(z[0])\n",
    "print(z[:7])\n",
    "\n",
    "a == z"
   ]
  },
  {
   "cell_type": "code",
   "execution_count": 26,
   "metadata": {},
   "outputs": [
    {
     "name": "stdout",
     "output_type": "stream",
     "text": [
      "[9, 8, 7, 'me', 'you', 6]\n",
      "[6, 'you', 'me', 7, 8, 9]\n",
      "[1, 3, 5, 7, 9]\n",
      "[2, 4, 6, 8]\n"
     ]
    }
   ],
   "source": [
    "m_list = [9, 8, 7, 'me', 'you', 6]\n",
    "q_list = [1, 2, 3, 4, 5, 6, 7, 8, 9]\n",
    "\n",
    "print(m_list[:]) # : this prints everything in the list\n",
    "print(m_list[::-1]) # ::-1 this prints backswards and zero is invalid in this way\n",
    "print(q_list[::2]) # ::2 this prints every second number from the first which is zero(You can give it any int)\n",
    "print(q_list[1::2]) # 1::2 You can assign where you want it to start from and how it should count when printing out"
   ]
  },
  {
   "cell_type": "markdown",
   "metadata": {},
   "source": [
    "# **Data types**"
   ]
  },
  {
   "cell_type": "markdown",
   "metadata": {},
   "source": [
    " # : this prints everything in the list\n",
    " # ::-1 this prints backswards and zero is invalid in this way\n",
    " # ::2 this prints every second number from the first which is zero(You can give it any int)\n",
    " # 1::2 You can assign where you want it to start from and how it should count when printing out"
   ]
  },
  {
   "cell_type": "markdown",
   "metadata": {},
   "source": [
    "# **Dictionary**"
   ]
  },
  {
   "cell_type": "code",
   "execution_count": 27,
   "metadata": {},
   "outputs": [
    {
     "data": {
      "text/plain": [
       "'Love'"
      ]
     },
     "execution_count": 27,
     "metadata": {},
     "output_type": "execute_result"
    }
   ],
   "source": [
    "dictionary = {'Matt':\"Gift\", 'judy':\"Love\"}\n",
    "dictionary.get('judy')"
   ]
  },
  {
   "cell_type": "markdown",
   "metadata": {},
   "source": [
    "# These work like the actual dic, you assign one **string** a **value(key)** by using '' or \"\""
   ]
  },
  {
   "cell_type": "markdown",
   "metadata": {},
   "source": [
    "# And you can print then out by calling out that dic's name and add **.get**\n",
    "* get"
   ]
  },
  {
   "cell_type": "code",
   "execution_count": 30,
   "metadata": {},
   "outputs": [
    {
     "data": {
      "text/plain": [
       "'matt matt matt matt '"
      ]
     },
     "execution_count": 30,
     "metadata": {},
     "output_type": "execute_result"
    }
   ],
   "source": [
    "multi = 'matt ' * 4\n",
    "multi"
   ]
  },
  {
   "cell_type": "markdown",
   "metadata": {},
   "source": [
    "# You can multiply a string like, how many times\n",
    "# do you want it to be print\n",
    "# but you can not add, because adding in python its like concatenating "
   ]
  },
  {
   "cell_type": "markdown",
   "metadata": {},
   "source": [
    "### modulo = 10%3 # Gives you the the remainder of a division operation\n",
    "\n",
    "### floor_division = 7 // 2 # Gives you the largest multiple, in this case it's 3 "
   ]
  },
  {
   "cell_type": "code",
   "execution_count": 32,
   "metadata": {},
   "outputs": [
    {
     "name": "stdout",
     "output_type": "stream",
     "text": [
      "True\n",
      "True\n",
      "False\n",
      "True\n",
      "True\n",
      "True\n"
     ]
    }
   ],
   "source": [
    "print(3 == 3) # Equals\n",
    "\n",
    "print(3 != 4)  # Does not equal\n",
    "\n",
    "print(3 > 4)  # Greater than\n",
    "\n",
    "print(3 < 5)  # Less than\n",
    "\n",
    "print(2 >= 2)  # Greater than or equal to\n",
    "\n",
    "print(4 <= 4)  # Less than or equal to"
   ]
  },
  {
   "cell_type": "code",
   "execution_count": 33,
   "metadata": {},
   "outputs": [
    {
     "data": {
      "text/plain": [
       "5"
      ]
     },
     "execution_count": 33,
     "metadata": {},
     "output_type": "execute_result"
    }
   ],
   "source": [
    "int(5.6)"
   ]
  },
  {
   "cell_type": "code",
   "execution_count": 34,
   "metadata": {},
   "outputs": [
    {
     "data": {
      "text/plain": [
       "False"
      ]
     },
     "execution_count": 34,
     "metadata": {},
     "output_type": "execute_result"
    }
   ],
   "source": [
    "'ba' in 'adidas'"
   ]
  },
  {
   "cell_type": "code",
   "execution_count": 35,
   "metadata": {},
   "outputs": [
    {
     "data": {
      "text/plain": [
       "True"
      ]
     },
     "execution_count": 35,
     "metadata": {},
     "output_type": "execute_result"
    }
   ],
   "source": [
    "'u' in 'you'"
   ]
  },
  {
   "cell_type": "markdown",
   "metadata": {},
   "source": [
    "# **Functions**"
   ]
  },
  {
   "cell_type": "code",
   "execution_count": null,
   "metadata": {},
   "outputs": [],
   "source": [
    "def function_name(x, y, z):\n",
    "\treturn x + y + z # The \"return\" tells Python what to output from a function\n",
    "\n",
    "function_name(x = 1, y = 2, z = 3) # This is how we call a function\n",
    "function_name(1, 2, 3) # You can also call it like this by letting Python assume your arguments are in order \n",
    "function_name(1, 2, z = 4) # You can also not specify earlier arguments, but specify later ones\n",
    "function_name(x = 1, 2, 3) # This is not valid (Python doesn't know what arguments to match 2 and 3 with"
   ]
  },
  {
   "cell_type": "code",
   "execution_count": 39,
   "metadata": {},
   "outputs": [
    {
     "data": {
      "text/plain": [
       "6"
      ]
     },
     "execution_count": 39,
     "metadata": {},
     "output_type": "execute_result"
    }
   ],
   "source": [
    "def function_name(x, y, z):\n",
    "\treturn x + y + z # The \"return\" tells Python what to output from a function\n",
    "\n",
    "function_name(x = 1, y = 2, z = 3) # This is how we call a function\n"
   ]
  },
  {
   "cell_type": "markdown",
   "metadata": {},
   "source": [
    "# **Numpy**\n",
    "## The order of them is:\n",
    "* How to import\n",
    "* How to call and use it\n",
    "* And some arrays"
   ]
  },
  {
   "cell_type": "code",
   "execution_count": 1,
   "metadata": {},
   "outputs": [],
   "source": [
    "import numpy"
   ]
  },
  {
   "cell_type": "code",
   "execution_count": 1,
   "metadata": {},
   "outputs": [],
   "source": [
    "test = [1, 2, 3, 4]\n",
    "\n",
    "test.append(3)"
   ]
  },
  {
   "cell_type": "code",
   "execution_count": 4,
   "metadata": {},
   "outputs": [
    {
     "name": "stdout",
     "output_type": "stream",
     "text": [
      "21\n",
      "1\n",
      "6\n",
      "3.5\n",
      "[[2 3 4]\n",
      " [5 6 2]]\n",
      "[[[2 3]\n",
      "  [4 5]]\n",
      "\n",
      " [[6 2]\n",
      "  [3 5]]]\n"
     ]
    }
   ],
   "source": [
    "import numpy as np\n",
    "\n",
    "e = np.array([1, 2, 3, 4, 5, 6])\n",
    "print(e.sum()) # Sum the array\n",
    "print(e.min()) # Find the minimum value in an array\n",
    "print(e.max()) # Find the maximum value in an array\n",
    "print(e.mean()) # Find the arithmetic mean of an array\n",
    "\n",
    "c = np.array([2, 3, 4, 5, 6, 2]).reshape(2, 3) #the reshape tells it how many raws(first number) and raws(sec number)\n",
    "d = np.array([2, 3, 4, 5, 6, 2, 3, 5]).reshape(2, 2, 2)\n",
    "print(c)\n",
    "print(d)"
   ]
  },
  {
   "cell_type": "code",
   "execution_count": 6,
   "metadata": {},
   "outputs": [
    {
     "name": "stdout",
     "output_type": "stream",
     "text": [
      "[0. 0. 0. 0. 0.]\n",
      "[0.         0.66666667 1.33333333 2.         2.66666667 3.33333333\n",
      " 4.         4.66666667 5.33333333 6.        ]\n",
      "[0.16186779 0.44505856 0.76107478]\n",
      "461\n",
      "[ 0  1  2  3  4  5  6  7  8  9 10 11 12 13 14 15 16 17 18 19 20 21 22 23\n",
      " 24]\n"
     ]
    }
   ],
   "source": [
    "import numpy as np \n",
    "\n",
    "a = np.zeros(5) # Creates an array of zeros with 5 elements\n",
    "b = np.linspace(0, 6, 10) # Creates an array of values from 0 through 6 in 10 even spaces\n",
    "c = np.random.rand(3) # Three random values between 0 and 1\n",
    "d = np.random.randint(1, 1000) # A random integer between 1 and 1000\n",
    "e = np.arange(25) # Like the \"Range\" function we learned earlier, this is gives you a range of integers between 1 - 25\n",
    "print(a)\n",
    "print(b)\n",
    "print(c)\n",
    "print(d)\n",
    "print(e)"
   ]
  },
  {
   "cell_type": "markdown",
   "metadata": {},
   "source": [
    "# **Pandas**\n",
    "## To install:\n",
    "* In Anaconda Prompt enter *conda install pandas* Type y and hit \"Enter\" and Conda should start installing the package.\n",
    "\n",
    "## To use:\n",
    "* import pandas as pd"
   ]
  },
  {
   "cell_type": "code",
   "execution_count": 1,
   "metadata": {},
   "outputs": [
    {
     "name": "stdout",
     "output_type": "stream",
     "text": [
      "0    1\n",
      "1    2\n",
      "2    3\n",
      "3    6\n",
      "4    7\n",
      "dtype: int64\n"
     ]
    }
   ],
   "source": [
    "import pandas as pd\n",
    "\n",
    "series_test = [1, 2, 3, 6, 7]\n",
    "print(pd.Series(series_test))\n",
    "# You'll see the output is \"two\" columns. The index on the left and the data on the right. \n",
    "# The index is \"kind-of\" a column, but is better understood as the \"address\" of data in Pandas. \n",
    "# We'll be working a lot with indices in the future. "
   ]
  },
  {
   "cell_type": "code",
   "execution_count": null,
   "metadata": {},
   "outputs": [],
   "source": [
    "import os # This will be used to tell us where the file is\n",
    "import pandas as pd\n",
    "\n",
    "pwd = os.getcwd() # This creates a string of the folder this Python Script is stored in\n",
    "\n",
    "filepath = pwd + \"/simple_csv.csv\" # This creates a string that is the filepath to the simple_csv file\n",
    "\n",
    "first_import = pd.read_csv(filepath) # This reads the csv into Python\n",
    "first_import"
   ]
  }
 ],
 "metadata": {
  "kernelspec": {
   "display_name": "base",
   "language": "python",
   "name": "python3"
  },
  "language_info": {
   "codemirror_mode": {
    "name": "ipython",
    "version": 3
   },
   "file_extension": ".py",
   "mimetype": "text/x-python",
   "name": "python",
   "nbconvert_exporter": "python",
   "pygments_lexer": "ipython3",
   "version": "3.11.5"
  }
 },
 "nbformat": 4,
 "nbformat_minor": 2
}
